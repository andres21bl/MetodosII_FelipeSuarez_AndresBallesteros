{
 "cells": [
  {
   "cell_type": "code",
   "execution_count": 122,
   "metadata": {},
   "outputs": [],
   "source": [
    "import numpy as np\n",
    "import matplotlib.pyplot as plt\n",
    "from scipy import integrate"
   ]
  },
  {
   "cell_type": "code",
   "execution_count": 123,
   "metadata": {},
   "outputs": [],
   "source": [
    "g = 9.81\n",
    "theta_0 = 10*(np.pi/180)\n",
    "w0=0\n",
    "L=1\n",
    "t = np.linspace(0,0.31,100)"
   ]
  },
  {
   "cell_type": "code",
   "execution_count": 124,
   "metadata": {},
   "outputs": [],
   "source": [
    "def System(r,t,g,L):\n",
    "    \n",
    "    theta,w= r\n",
    "    \n",
    "    dthetadt = w\n",
    "    dwdt = ((2*g/L)-(w**2)*np.cos(theta)*np.sin(theta))/((1/3)+np.sin(theta)**2)\n",
    "    \n",
    "    return [dthetadt,dwdt]"
   ]
  },
  {
   "cell_type": "code",
   "execution_count": 125,
   "metadata": {},
   "outputs": [],
   "source": [
    "def Integrator2(f,r0,t,g,L):\n",
    "    \n",
    "    h = t[1] - t[0]\n",
    "    #print(h)\n",
    "    \n",
    "    theta = np.zeros_like(t)\n",
    "    w = np.zeros_like(t)\n",
    "\n",
    "    \n",
    "    theta[0] = r0[0]\n",
    "    w[0] = r0[1]\n",
    "\n",
    "    \n",
    "    K1 = np.zeros(2)\n",
    "    K2 = np.zeros(2)\n",
    "    \n",
    "    # Las pendientes instantaneas\n",
    "    R = np.zeros(2)\n",
    "\n",
    "    for i in range(1,len(t)):\n",
    "        \n",
    "        R = np.array([theta[i-1],w[i-1]])\n",
    "        \n",
    "        K1 = f(R,t[i-1],g,L)\n",
    "        \n",
    "        R = np.array([theta[i-1]+h*K1[0],w[i-1]+h*K1[1]])\n",
    "        \n",
    "        K2 = f(R,t[i-1]+h,g,L)\n",
    "        \n",
    "        theta[i] = theta[i-1] + 0.5*h*(K1[0]+K2[0])\n",
    "        w[i] = w[i-1] + 0.5*h*(K1[1]+K2[1])\n",
    "        \n",
    "    return theta,w"
   ]
  },
  {
   "cell_type": "code",
   "execution_count": 126,
   "metadata": {},
   "outputs": [],
   "source": [
    "r0 = [theta_0,w0]\n",
    "theta,w = Integrator2(System,r0,t,g,L)"
   ]
  },
  {
   "cell_type": "code",
   "execution_count": 127,
   "metadata": {},
   "outputs": [],
   "source": [
    "r = integrate.odeint( System, r0, t, args=(g,L))"
   ]
  },
  {
   "cell_type": "code",
   "execution_count": 128,
   "metadata": {},
   "outputs": [],
   "source": [
    "y=(L/2)*np.cos(theta)\n",
    "x=(L/2)*np.sin(theta)\n",
    "y_=(L/2)*np.cos(r[:,0])\n",
    "x_=(L/2)*np.sin(r[:,0])"
   ]
  },
  {
   "cell_type": "code",
   "execution_count": 129,
   "metadata": {},
   "outputs": [
    {
     "data": {
      "text/plain": [
       "<matplotlib.legend.Legend at 0x2361b6d9640>"
      ]
     },
     "execution_count": 129,
     "metadata": {},
     "output_type": "execute_result"
    },
    {
     "data": {
      "image/png": "[encoded data removed]",
      "text/plain": [
       "<Figure size 576x576 with 1 Axes>"
      ]
     },
     "metadata": {
      "needs_background": "light"
     },
     "output_type": "display_data"
    }
   ],
   "source": [
    "fig = plt.figure(figsize=(8,8))\n",
    "ax = fig.add_subplot(1,1,1)\n",
    "ax.set_aspect(\"equal\")\n",
    "ax.plot(x,y, label='Runge-Kutta-2')\n",
    "ax.plot(x_,y_,label='OdeInt')\n",
    "plt.grid()\n",
    "plt.xlabel('x[m]')\n",
    "plt.ylabel('y[m]')\n",
    "plt.legend()"
   ]
  },
  {
   "cell_type": "code",
   "execution_count": 130,
   "metadata": {},
   "outputs": [
    {
     "data": {
      "text/plain": [
       "array([ 0.49240388,  0.49238088,  0.49231171,  0.49219582,  0.49203228,\n",
       "        0.49181984,  0.49155687,  0.49124143,  0.49087125,  0.49044374,\n",
       "        0.48995605,  0.48940508,  0.48878745,  0.48809961,  0.48733783,\n",
       "        0.48649821,  0.48557677,  0.48456942,  0.48347206,  0.48228055,\n",
       "        0.48099081,  0.4795988 ,  0.4781006 ,  0.4764924 ,  0.47477056,\n",
       "        0.47293163,  0.47097235,  0.4688897 ,  0.46668092,  0.46434347,\n",
       "        0.46187509,  0.45927382,  0.45653791,  0.45366593,  0.45065668,\n",
       "        0.44750924,  0.44422291,  0.44079725,  0.43723202,  0.43352719,\n",
       "        0.42968293,  0.42569959,  0.42157765,  0.41731778,  0.41292076,\n",
       "        0.40838748,  0.40371893,  0.39891622,  0.39398051,  0.38891302,\n",
       "        0.38371507,  0.37838797,  0.37293311,  0.36735188,  0.36164571,\n",
       "        0.35581604,  0.34986433,  0.34379202,  0.33760057,  0.33129143,\n",
       "        0.32486605,  0.31832585,  0.31167225,  0.30490667,  0.29803048,\n",
       "        0.29104505,  0.28395174,  0.27675187,  0.26944675,  0.26203767,\n",
       "        0.25452588,  0.24691264,  0.23919915,  0.23138663,  0.22347624,\n",
       "        0.21546914,  0.20736646,  0.19916932,  0.19087881,  0.18249601,\n",
       "        0.17402198,  0.16545776,  0.15680437,  0.14806282,  0.13923412,\n",
       "        0.13031924,  0.12131916,  0.11223485,  0.10306725,  0.09381731,\n",
       "        0.08448598,  0.07507419,  0.06558289,  0.056013  ,  0.04636547,\n",
       "        0.03664124,  0.02684126,  0.01696649,  0.00701791, -0.0030035 ])"
      ]
     },
     "execution_count": 130,
     "metadata": {},
     "output_type": "execute_result"
    }
   ],
   "source": [
    "y"
   ]
  },
  {
   "cell_type": "code",
   "execution_count": 131,
   "metadata": {},
   "outputs": [
    {
     "data": {
      "text/plain": [
       "0.30686868686868685"
      ]
     },
     "execution_count": 131,
     "metadata": {},
     "output_type": "execute_result"
    }
   ],
   "source": [
    "t[-2]"
   ]
  },
  {
   "cell_type": "markdown",
   "metadata": {},
   "source": [
    "El tiempo que la barra tarda en caer es aproximadamente 0.3 segundos"
   ]
  }
 ],
 "metadata": {
  "kernelspec": {
   "display_name": "base",
   "language": "python",
   "name": "python3"
  },
  "language_info": {
   "codemirror_mode": {
    "name": "ipython",
    "version": 3
   },
   "file_extension": ".py",
   "mimetype": "text/x-python",
   "name": "python",
   "nbconvert_exporter": "python",
   "pygments_lexer": "ipython3",
   "version": "3.8.3"
  }
 },
 "nbformat": 4,
 "nbformat_minor": 2
}
