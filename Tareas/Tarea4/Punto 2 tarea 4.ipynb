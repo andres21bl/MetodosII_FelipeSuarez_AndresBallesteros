{
 "cells": [
  {
   "cell_type": "code",
   "execution_count": 88,
   "id": "cb674e0c",
   "metadata": {},
   "outputs": [],
   "source": [
    "import numpy as np\n",
    "import matplotlib.pyplot as plt\n",
    "from scipy.integrate import odeint\n",
    "import sympy as sym"
   ]
  },
  {
   "cell_type": "code",
   "execution_count": 89,
   "id": "16553826",
   "metadata": {},
   "outputs": [],
   "source": [
    "## Esta función calcula la base del polinomio de Lagrange para un conjunto de nodos. La base de Lagrange se utiliza para construir el polinomio interpolante.\n",
    "def base_Lagrange(x,xi,j):\n",
    "    \n",
    "    lon = len(xi) #longitud del arreglo xi,  determina el número de nodos.\n",
    "    p_base = 1.0\n",
    "\n",
    "    for i in range(lon):\n",
    "        if i != j: #para excluir el término l con i=j  del producto.\n",
    "            \n",
    "            p_base *= (x - xi[i])/(xi[j]-xi[i])\n",
    "            \n",
    "    return p_base"
   ]
  },
  {
   "cell_type": "code",
   "execution_count": 90,
   "id": "b74a5755",
   "metadata": {},
   "outputs": [],
   "source": [
    "## Esta función calcula el polinomio interpolante de Lagrange para un conjunto de nodos y sus correspondientes \n",
    "##valores de función. Definiendo estas funciones nos ahorramos mucho trabajo de calculo \n",
    "\n",
    "def inter(x,xi,yi):\n",
    "    \n",
    "    Sum = 0. ## almacenará la suma de los términos de interpolación.\n",
    "    lon = len(xi)\n",
    "    \n",
    "    for j in range(lon):\n",
    "        Sum += yi[j]*base_Lagrange(x,xi,j)\n",
    "        \n",
    "    return Sum\n",
    "## cuando ya tenemos los polinomios interpolantes pasamos a revisar la interacion para tres y cuatro puntos "
   ]
  },
  {
   "cell_type": "code",
   "execution_count": 91,
   "id": "9079da6d",
   "metadata": {},
   "outputs": [],
   "source": [
    "h, t ,tn= sym.symbols(\"h,t,t_n\",real=True)\n",
    "t_3=[-2*h,-h,0]\n",
    "f1,f2,f3= sym.symbols(\"f_n,f_n-1,f_n-2\",real=True)\n",
    "fs_3=[f3,f2,f1]"
   ]
  },
  {
   "cell_type": "code",
   "execution_count": 92,
   "id": "e0cbbf22",
   "metadata": {},
   "outputs": [],
   "source": [
    "P_3=inter(t,t_3,fs_3)"
   ]
  },
  {
   "cell_type": "code",
   "execution_count": 93,
   "id": "7f22acec",
   "metadata": {},
   "outputs": [
    {
     "data": {
      "text/latex": [
       "$\\displaystyle \\frac{0.5 f_{n} \\left(h + t\\right) \\left(2 h + t\\right)}{h^{2}} - \\frac{1.0 f_{n-1} t \\left(2 h + t\\right)}{h^{2}} + \\frac{0.5 f_{n-2} t \\left(h + t\\right)}{h^{2}}$"
      ],
      "text/plain": [
       "0.5*f_n*(h + t)*(2*h + t)/h**2 - 1.0*f_n-1*t*(2*h + t)/h**2 + 0.5*f_n-2*t*(h + t)/h**2"
      ]
     },
     "execution_count": 93,
     "metadata": {},
     "output_type": "execute_result"
    }
   ],
   "source": [
    "P_3"
   ]
  },
  {
   "cell_type": "code",
   "execution_count": 94,
   "id": "567b0398",
   "metadata": {},
   "outputs": [],
   "source": [
    "#para 3 puntos\n",
    "Integracion_3 = sym.integrate(P_3,(t,0,h))\n",
    "Integracion_3 = sym.nsimplify(I_3,tolerance=0.000000000001)\n",
    "Integracion_3 = sym.simplify(I_3)"
   ]
  },
  {
   "cell_type": "code",
   "execution_count": 95,
   "id": "318260d8",
   "metadata": {},
   "outputs": [
    {
     "data": {
      "text/latex": [
       "$\\displaystyle \\frac{h \\left(23 f_{n} - 16 f_{n-1} + 5 f_{n-2}\\right)}{12}$"
      ],
      "text/plain": [
       "h*(23*f_n - 16*f_n-1 + 5*f_n-2)/12"
      ]
     },
     "execution_count": 95,
     "metadata": {},
     "output_type": "execute_result"
    }
   ],
   "source": [
    "Integracion_3 ##coincide con lo enunciado en el punto"
   ]
  },
  {
   "cell_type": "code",
   "execution_count": 96,
   "id": "baef98d4",
   "metadata": {},
   "outputs": [
    {
     "data": {
      "text/latex": [
       "$\\displaystyle \\frac{0.166666666666667 f_{n} \\left(h + t\\right) \\left(2 h + t\\right) \\left(3 h + t\\right)}{h^{3}} - \\frac{0.5 f_{n-1} t \\left(2 h + t\\right) \\left(3 h + t\\right)}{h^{3}} + \\frac{0.5 f_{n-2} t \\left(h + t\\right) \\left(3 h + t\\right)}{h^{3}} - \\frac{0.166666666666667 f_{n-3} t \\left(h + t\\right) \\left(2 h + t\\right)}{h^{3}}$"
      ],
      "text/plain": [
       "0.166666666666667*f_n*(h + t)*(2*h + t)*(3*h + t)/h**3 - 0.5*f_n-1*t*(2*h + t)*(3*h + t)/h**3 + 0.5*f_n-2*t*(h + t)*(3*h + t)/h**3 - 0.166666666666667*f_n-3*t*(h + t)*(2*h + t)/h**3"
      ]
     },
     "execution_count": 96,
     "metadata": {},
     "output_type": "execute_result"
    }
   ],
   "source": [
    "# ahora pasemos al caso de 4 puntos\n",
    "t_4=[-3*h,-2*h,-h,0]\n",
    "f1,f2,f3,f4= sym.symbols(\"f_n,f_n-1,f_n-2,f_n-3\",real=True)\n",
    "fs_4=[f4,f3,f2,f1]\n",
    "P_4=inter(t,t_4,fs_4)\n",
    "P_4"
   ]
  },
  {
   "cell_type": "code",
   "execution_count": 97,
   "id": "79205b2e",
   "metadata": {},
   "outputs": [],
   "source": [
    "Integracion_4=sym.integrate(P_4,(t,0,h))\n",
    "Integracino_4=sym.nsimplify(I_4,tolerance=0.000000000001)\n",
    "Integracion_4=sym.simplify(I_4)"
   ]
  },
  {
   "cell_type": "code",
   "execution_count": 98,
   "id": "a1a85dd3",
   "metadata": {},
   "outputs": [
    {
     "data": {
      "text/latex": [
       "$\\displaystyle \\frac{h \\left(55 f_{n} - 59 f_{n-1} + 37 f_{n-2} - 9 f_{n-3}\\right)}{24}$"
      ],
      "text/plain": [
       "h*(55*f_n - 59*f_n-1 + 37*f_n-2 - 9*f_n-3)/24"
      ]
     },
     "execution_count": 98,
     "metadata": {},
     "output_type": "execute_result"
    }
   ],
   "source": [
    "I_4"
   ]
  },
  {
   "cell_type": "code",
   "execution_count": null,
   "id": "e2c24b98",
   "metadata": {},
   "outputs": [],
   "source": []
  }
 ],
 "metadata": {
  "kernelspec": {
   "display_name": "Python 3 (ipykernel)",
   "language": "python",
   "name": "python3"
  },
  "language_info": {
   "codemirror_mode": {
    "name": "ipython",
    "version": 3
   },
   "file_extension": ".py",
   "mimetype": "text/x-python",
   "name": "python",
   "nbconvert_exporter": "python",
   "pygments_lexer": "ipython3",
   "version": "3.11.4"
  }
 },
 "nbformat": 4,
 "nbformat_minor": 5
}
