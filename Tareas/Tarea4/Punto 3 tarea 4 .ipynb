{
 "cells": [
  {
   "cell_type": "code",
   "execution_count": 45,
   "id": "ebd8093b",
   "metadata": {},
   "outputs": [],
   "source": [
    "import numpy as np\n",
    "import matplotlib.pyplot as plt\n",
    "from scipy.integrate import odeint\n",
    "import sympy as sym"
   ]
  },
  {
   "cell_type": "code",
   "execution_count": 46,
   "id": "03899699",
   "metadata": {},
   "outputs": [],
   "source": [
    "## Esta función calcula la base del polinomio de Lagrange para un conjunto de nodos. La base de Lagrange se utiliza para construir el polinomio interpolante.\n",
    "def base_Lagrange(x,xi,j):\n",
    "    lon = len(xi) #longitud del arreglo xi,  determina el número de nodos.\n",
    "    p_base = 1.0\n",
    "    for i in range(lon):\n",
    "        if i != j: #para excluir el término l con i=j  del producto.      \n",
    "            p_base *= (x - xi[i])/(xi[j]-xi[i])       \n",
    "    return p_base"
   ]
  },
  {
   "cell_type": "code",
   "execution_count": 47,
   "id": "bf35523f",
   "metadata": {},
   "outputs": [],
   "source": [
    "## Esta función calcula el polinomio interpolante de Lagrange para un conjunto de nodos y sus correspondientes \n",
    "##valores de función. Definiendo estas funciones nos ahorramos mucho trabajo de calculo \n",
    "def inter(x,xi,yi):\n",
    "    Sum = 0. ## almacenará la suma de los términos de interpolación.\n",
    "    lon = len(xi)\n",
    "    for j in range(lon):\n",
    "        Sum += yi[j]*base_Lagrange(x,xi,j)   \n",
    "    return Sum\n",
    "## cuando ya tenemos los polinomios interpolantes pasamos a revisar la interacion para tres y cuatro puntos "
   ]
  },
  {
   "cell_type": "code",
   "execution_count": 48,
   "id": "5788d5b5",
   "metadata": {},
   "outputs": [],
   "source": [
    "h, t ,tn= sym.symbols(\"h,t,t_n\",real=True)\n",
    "t_3=[-h,0,h]\n",
    "f1,f2,f3= sym.symbols(\"f_n-1,f_n,f_n+1\",real=True)\n",
    "fs_3=[f1,f2,f3]\n",
    "P_3=Interpolate(t,t_3,fs_3)"
   ]
  },
  {
   "cell_type": "code",
   "execution_count": 49,
   "id": "2be09c2c",
   "metadata": {},
   "outputs": [
    {
     "data": {
      "text/latex": [
       "$\\displaystyle - \\frac{1.0 f_{n} \\left(- h + t\\right) \\left(h + t\\right)}{h^{2}} + \\frac{0.5 f_{n+1} t \\left(h + t\\right)}{h^{2}} + \\frac{0.5 f_{n-1} t \\left(- h + t\\right)}{h^{2}}$"
      ],
      "text/plain": [
       "-1.0*f_n*(-h + t)*(h + t)/h**2 + 0.5*f_n+1*t*(h + t)/h**2 + 0.5*f_n-1*t*(-h + t)/h**2"
      ]
     },
     "execution_count": 49,
     "metadata": {},
     "output_type": "execute_result"
    }
   ],
   "source": [
    "P_3"
   ]
  },
  {
   "cell_type": "code",
   "execution_count": 50,
   "id": "5a9e1039",
   "metadata": {},
   "outputs": [],
   "source": [
    "#para 3 puntos\n",
    "Integracion_3=sym.integrate(Poly_3,(t,0,h))\n",
    "Integracion_3=sym.nsimplify(I_3,tolerance=0.000000000001)\n",
    "Integracion_3=sym.simplify(I_3)"
   ]
  },
  {
   "cell_type": "code",
   "execution_count": 51,
   "id": "802c5afe",
   "metadata": {},
   "outputs": [
    {
     "data": {
      "text/latex": [
       "$\\displaystyle \\frac{h \\left(8 f_{n} + 5 f_{n+1} - f_{n-1}\\right)}{12}$"
      ],
      "text/plain": [
       "h*(8*f_n + 5*f_n+1 - f_n-1)/12"
      ]
     },
     "execution_count": 51,
     "metadata": {},
     "output_type": "execute_result"
    }
   ],
   "source": [
    "Integracion_3 #coincide con lo enunciado en el punto cambiando la posicion de f_n y f_n+1"
   ]
  },
  {
   "cell_type": "code",
   "execution_count": 52,
   "id": "739e16ca",
   "metadata": {},
   "outputs": [],
   "source": [
    "# ahora pasemos al caso de 4 puntos\n",
    "t_4=[-2*h,-h,0,h]\n",
    "f1,f2,f3,f4= sym.symbols(\"f_n-2,f_n-1,f_n,f_n+1\",real=True)\n",
    "fs_4=[f1,f2,f3,f4]\n",
    "P_4=Interpolate(t,t_4,fs_4)"
   ]
  },
  {
   "cell_type": "code",
   "execution_count": 53,
   "id": "5ae85cfc",
   "metadata": {},
   "outputs": [
    {
     "data": {
      "text/latex": [
       "$\\displaystyle - \\frac{0.5 f_{n} \\left(- h + t\\right) \\left(h + t\\right) \\left(2 h + t\\right)}{h^{3}} + \\frac{0.166666666666667 f_{n+1} t \\left(h + t\\right) \\left(2 h + t\\right)}{h^{3}} + \\frac{0.5 f_{n-1} t \\left(- h + t\\right) \\left(2 h + t\\right)}{h^{3}} - \\frac{0.166666666666667 f_{n-2} t \\left(- h + t\\right) \\left(h + t\\right)}{h^{3}}$"
      ],
      "text/plain": [
       "-0.5*f_n*(-h + t)*(h + t)*(2*h + t)/h**3 + 0.166666666666667*f_n+1*t*(h + t)*(2*h + t)/h**3 + 0.5*f_n-1*t*(-h + t)*(2*h + t)/h**3 - 0.166666666666667*f_n-2*t*(-h + t)*(h + t)/h**3"
      ]
     },
     "execution_count": 53,
     "metadata": {},
     "output_type": "execute_result"
    }
   ],
   "source": [
    "P_4"
   ]
  },
  {
   "cell_type": "code",
   "execution_count": 54,
   "id": "aba7465a",
   "metadata": {},
   "outputs": [],
   "source": [
    "Integracion_4=sym.integrate(Poly_4,(t,0,h))\n",
    "Integracion_4=sym.nsimplify(I_4,tolerance=0.000000000001)\n",
    "Integracion_4=sym.simplify(I_4)"
   ]
  },
  {
   "cell_type": "code",
   "execution_count": 55,
   "id": "1308e399",
   "metadata": {},
   "outputs": [
    {
     "data": {
      "text/latex": [
       "$\\displaystyle \\frac{h \\left(19 f_{n} + 9 f_{n+1} - 5 f_{n-1} + f_{n-2}\\right)}{24}$"
      ],
      "text/plain": [
       "h*(19*f_n + 9*f_n+1 - 5*f_n-1 + f_n-2)/24"
      ]
     },
     "execution_count": 55,
     "metadata": {},
     "output_type": "execute_result"
    }
   ],
   "source": [
    "I_4 #coincide con lo enunciado en el punto cambiando la posicion de f_n y f_n+1"
   ]
  },
  {
   "cell_type": "code",
   "execution_count": null,
   "id": "09352865",
   "metadata": {},
   "outputs": [],
   "source": []
  },
  {
   "cell_type": "code",
   "execution_count": null,
   "id": "2633ed38",
   "metadata": {},
   "outputs": [],
   "source": []
  }
 ],
 "metadata": {
  "kernelspec": {
   "display_name": "Python 3 (ipykernel)",
   "language": "python",
   "name": "python3"
  },
  "language_info": {
   "codemirror_mode": {
    "name": "ipython",
    "version": 3
   },
   "file_extension": ".py",
   "mimetype": "text/x-python",
   "name": "python",
   "nbconvert_exporter": "python",
   "pygments_lexer": "ipython3",
   "version": "3.11.4"
  }
 },
 "nbformat": 4,
 "nbformat_minor": 5
}
