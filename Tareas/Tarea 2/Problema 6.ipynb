{
 "cells": [
  {
   "cell_type": "code",
   "execution_count": 325,
   "metadata": {},
   "outputs": [],
   "source": [
    "import numpy as np\n",
    "import matplotlib.pyplot as plt\n",
    "from scipy import integrate\n",
    "from tqdm import tqdm\n",
    "import pandas as pd"
   ]
  },
  {
   "cell_type": "code",
   "execution_count": 326,
   "metadata": {},
   "outputs": [],
   "source": [
    "t = np.arange(0,2.4,2e-4)\n",
    "e= 0.205630\n",
    "a=0.387098\n",
    "G=4*np.pi**2\n",
    "alpha=1.1*10**-8"
   ]
  },
  {
   "cell_type": "code",
   "execution_count": 327,
   "metadata": {},
   "outputs": [],
   "source": [
    "def aceleracion(r):\n",
    "    d = np.linalg.norm(r)\n",
    "    return -r* (G/d**3)*(1 + alpha/d**2)"
   ]
  },
  {
   "cell_type": "code",
   "execution_count": 328,
   "metadata": {},
   "outputs": [],
   "source": [
    "def Verlet(p0,t):\n",
    "    \n",
    "    h = t[1]-t[0]\n",
    "    r0 = p0[0]\n",
    "    v0 = p0[1]\n",
    "    a0 = aceleracion(r0)\n",
    "    r = np.zeros( (len(t),len(r0)) )\n",
    "    v = np.zeros_like(R)\n",
    "    a = np.zeros_like(R)\n",
    "    r[0] = r0\n",
    "    v[0] = v0\n",
    "    a[0] = a0\n",
    "           \n",
    "    for i in tqdm(range(0,len(t)-1)):\n",
    "        r[i+1] = r[i] + v[i]*h + 0.5*a[i]*h**2\n",
    "        a[i+1] = aceleracion(r[i+1])\n",
    "        v[i+1] = v[i] + 0.5*h*(a[i]+a[i+1])\n",
    "    \n",
    "    return r,a,v"
   ]
  },
  {
   "cell_type": "code",
   "execution_count": 329,
   "metadata": {},
   "outputs": [],
   "source": [
    "r0 = np.array([np.array([a*(1 + e), 0.]), np.array([0., (G*(1 - e)/(a*(1 + e)))**0.5])])"
   ]
  },
  {
   "cell_type": "code",
   "execution_count": 330,
   "metadata": {},
   "outputs": [
    {
     "name": "stderr",
     "output_type": "stream",
     "text": [
      "100%|██████████| 11999/11999 [00:00<00:00, 28177.90it/s]\n"
     ]
    }
   ],
   "source": [
    "r,a,v = Verlet(r0,t)"
   ]
  },
  {
   "cell_type": "code",
   "execution_count": 331,
   "metadata": {},
   "outputs": [
    {
     "data": {
      "text/plain": [
       "<matplotlib.legend.Legend at 0x22b1a452e80>"
      ]
     },
     "execution_count": 331,
     "metadata": {},
     "output_type": "execute_result"
    },
    {
     "data": {
      "image/png": "[encoded data removed]",
      "text/plain": [
       "<Figure size 432x288 with 1 Axes>"
      ]
     },
     "metadata": {
      "needs_background": "light"
     },
     "output_type": "display_data"
    }
   ],
   "source": [
    "plt.scatter(r[:,0],r[:,1],label='Mercurio')\n",
    "plt.scatter(0,0,color=\"y\",label='Sol')\n",
    "plt.legend()"
   ]
  },
  {
   "cell_type": "code",
   "execution_count": 332,
   "metadata": {},
   "outputs": [
    {
     "name": "stderr",
     "output_type": "stream",
     "text": [
      "100%|██████████| 11998/11998 [00:00<00:00, 886097.68it/s]\n"
     ]
    }
   ],
   "source": [
    "d = np.linalg.norm(r,axis=1)\n",
    "perihelio = []\n",
    "theta = []\n",
    "\n",
    "for i in tqdm(range(1,len(d)-1)):\n",
    "    if d[i] < d[i-1] and d[i] < d[i+1]:\n",
    "        perihelio.append(t[i])\n",
    "        ang = np.rad2deg(np.arctan2(r[i][1],r[i][0]))\n",
    "        theta.append(np.abs(ang))"
   ]
  },
  {
   "cell_type": "code",
   "execution_count": 333,
   "metadata": {},
   "outputs": [],
   "source": [
    "save = pd.DataFrame({\"Tiempo\":perihelio,\"Angulo\":theta})\n",
    "save.to_csv('Mercurio_Datos.csv', index=False)"
   ]
  },
  {
   "cell_type": "code",
   "execution_count": 342,
   "metadata": {},
   "outputs": [],
   "source": [
    "dif_angulo = [theta[0]]\n",
    "for i in range(len(theta)-1):\n",
    "    dif_angulo.append(theta[i]-theta[0])"
   ]
  },
  {
   "cell_type": "code",
   "execution_count": 343,
   "metadata": {},
   "outputs": [],
   "source": [
    "def GetFit(x,y,n=1):\n",
    "    \n",
    "    l = len(x)\n",
    "    b = y\n",
    "    \n",
    "    A = np.ones((l,n+1))\n",
    "    \n",
    "    for i in range(1,n+1):\n",
    "        A[:,i] = x**i\n",
    "        \n",
    "    AT = np.dot(A.T,A)\n",
    "    bT = np.dot(A.T,b)\n",
    "\n",
    "    xsol = np.linalg.solve(AT,bT)\n",
    "    \n",
    "    return xsol"
   ]
  },
  {
   "cell_type": "code",
   "execution_count": 341,
   "metadata": {},
   "outputs": [
    {
     "data": {
      "text/plain": [
       "10"
      ]
     },
     "execution_count": 341,
     "metadata": {},
     "output_type": "execute_result"
    }
   ],
   "source": [
    "len(dif_angulo)\n",
    "len(perihelio)"
   ]
  },
  {
   "cell_type": "code",
   "execution_count": 347,
   "metadata": {},
   "outputs": [
    {
     "data": {
      "text/plain": [
       "[0.12040000000000001,\n",
       " 0.3612,\n",
       " 0.6022000000000001,\n",
       " 0.8430000000000001,\n",
       " 1.0838,\n",
       " 1.3246,\n",
       " 1.5654000000000001,\n",
       " 1.8064,\n",
       " 2.0472,\n",
       " 2.2880000000000003]"
      ]
     },
     "execution_count": 347,
     "metadata": {},
     "output_type": "execute_result"
    }
   ],
   "source": [
    "perihelio"
   ]
  },
  {
   "cell_type": "code",
   "execution_count": 345,
   "metadata": {},
   "outputs": [
    {
     "data": {
      "text/plain": [
       "array([ 67.03774466, -40.77855881])"
      ]
     },
     "execution_count": 345,
     "metadata": {},
     "output_type": "execute_result"
    }
   ],
   "source": [
    "n = 1\n",
    "param = GetFit(np.array(perihelio),np.array(dif_angulo),n)\n",
    "param \n",
    "param"
   ]
  },
  {
   "cell_type": "code",
   "execution_count": 346,
   "metadata": {},
   "outputs": [
    {
     "data": {
      "text/plain": [
       "<matplotlib.legend.Legend at 0x22b1a704340>"
      ]
     },
     "execution_count": 346,
     "metadata": {},
     "output_type": "execute_result"
    },
    {
     "data": {
      "image/png": "[encoded data removed]",
      "text/plain": [
       "<Figure size 432x288 with 1 Axes>"
      ]
     },
     "metadata": {
      "needs_background": "light"
     },
     "output_type": "display_data"
    }
   ],
   "source": [
    "plt.plot(2*np.array(perihelio),2*np.array(dif_angulo),marker=\"*\",color=\"r\",\n",
    "         label=\"$\\Omega$ = {:.3f} Arcseconds/Century\".format(param[1]))\n",
    "plt.xlabel(\"Time [Years]\")\n",
    "plt.ylabel(\"$\\Delta \\Phi$ [Grades]\")\n",
    "plt.legend()"
   ]
  }
 ],
 "metadata": {
  "kernelspec": {
   "display_name": "base",
   "language": "python",
   "name": "python3"
  },
  "language_info": {
   "codemirror_mode": {
    "name": "ipython",
    "version": 3
   },
   "file_extension": ".py",
   "mimetype": "text/x-python",
   "name": "python",
   "nbconvert_exporter": "python",
   "pygments_lexer": "ipython3",
   "version": "3.8.3"
  }
 },
 "nbformat": 4,
 "nbformat_minor": 2
}
